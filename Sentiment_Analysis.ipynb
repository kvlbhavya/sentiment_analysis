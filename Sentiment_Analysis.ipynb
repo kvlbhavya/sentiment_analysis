{
  "nbformat": 4,
  "nbformat_minor": 0,
  "metadata": {
    "colab": {
      "provenance": []
    },
    "kernelspec": {
      "name": "python3",
      "display_name": "Python 3"
    },
    "language_info": {
      "name": "python"
    }
  },
  "cells": [
    {
      "cell_type": "code",
      "execution_count": 1,
      "metadata": {
        "colab": {
          "base_uri": "https://localhost:8080/"
        },
        "id": "D9wJG3aSlOQa",
        "outputId": "21dab0cb-00b0-4866-cac1-607634080a49"
      },
      "outputs": [
        {
          "output_type": "stream",
          "name": "stderr",
          "text": [
            "[nltk_data] Downloading package punkt to /root/nltk_data...\n",
            "[nltk_data]   Unzipping tokenizers/punkt.zip.\n"
          ]
        }
      ],
      "source": [
        "import pandas as pd  # Importing pandas library for data manipulation\n",
        "import numpy as np   # Importing numpy library for numerical operations\n",
        "import matplotlib.pyplot as plt  # Importing matplotlib library for data visualization\n",
        "import seaborn as sns  # Importing seaborn library for statistical data visualization\n",
        "import nltk  # Importing Natural Language Toolkit library for text processing\n",
        "nltk.download('punkt')  # Downloading necessary resources for tokenization\n",
        "from nltk.tokenize import word_tokenize  # Importing word_tokenize function for tokenizing text\n",
        "from keras.preprocessing.text import Tokenizer  # Importing Tokenizer from Keras for text tokenization\n",
        "from keras.preprocessing.sequence import pad_sequences  # Importing pad_sequences for padding sequences\n",
        "from keras.models import Sequential  # Importing Sequential model from Keras for building neural networks\n",
        "from keras.layers import Embedding, LSTM, Dense, Dropout  # Importing necessary layers from Keras for building the RNN model\n",
        "from sklearn.preprocessing import LabelEncoder  # Importing LabelEncoder from scikit-learn for label encoding\n",
        "import warnings  # Importing warnings module to handle warnings\n",
        "warnings.filterwarnings('ignore')  # Setting up to ignore warnings\n",
        "sns.set()  # Setting the seaborn style for data visualization"
      ]
    },
    {
      "cell_type": "code",
      "source": [
        "imdb=pd.read_csv(\"/content/sample_data/IMDB Dataset.csv\")\n",
        "imdb.head()"
      ],
      "metadata": {
        "colab": {
          "base_uri": "https://localhost:8080/",
          "height": 206
        },
        "id": "_Wx0SrKAmyCU",
        "outputId": "ba420edd-c8f3-4a18-d14a-54a41d178342"
      },
      "execution_count": 2,
      "outputs": [
        {
          "output_type": "execute_result",
          "data": {
            "text/plain": [
              "                                              review sentiment\n",
              "0  One of the other reviewers has mentioned that ...  positive\n",
              "1  A wonderful little production. <br /><br />The...  positive\n",
              "2  I thought this was a wonderful way to spend ti...  positive\n",
              "3  Basically there's a family where a little boy ...  negative\n",
              "4  Petter Mattei's \"Love in the Time of Money\" is...  positive"
            ],
            "text/html": [
              "\n",
              "  <div id=\"df-ded0cb1c-5436-4736-a8b1-f2b267c470ca\" class=\"colab-df-container\">\n",
              "    <div>\n",
              "<style scoped>\n",
              "    .dataframe tbody tr th:only-of-type {\n",
              "        vertical-align: middle;\n",
              "    }\n",
              "\n",
              "    .dataframe tbody tr th {\n",
              "        vertical-align: top;\n",
              "    }\n",
              "\n",
              "    .dataframe thead th {\n",
              "        text-align: right;\n",
              "    }\n",
              "</style>\n",
              "<table border=\"1\" class=\"dataframe\">\n",
              "  <thead>\n",
              "    <tr style=\"text-align: right;\">\n",
              "      <th></th>\n",
              "      <th>review</th>\n",
              "      <th>sentiment</th>\n",
              "    </tr>\n",
              "  </thead>\n",
              "  <tbody>\n",
              "    <tr>\n",
              "      <th>0</th>\n",
              "      <td>One of the other reviewers has mentioned that ...</td>\n",
              "      <td>positive</td>\n",
              "    </tr>\n",
              "    <tr>\n",
              "      <th>1</th>\n",
              "      <td>A wonderful little production. &lt;br /&gt;&lt;br /&gt;The...</td>\n",
              "      <td>positive</td>\n",
              "    </tr>\n",
              "    <tr>\n",
              "      <th>2</th>\n",
              "      <td>I thought this was a wonderful way to spend ti...</td>\n",
              "      <td>positive</td>\n",
              "    </tr>\n",
              "    <tr>\n",
              "      <th>3</th>\n",
              "      <td>Basically there's a family where a little boy ...</td>\n",
              "      <td>negative</td>\n",
              "    </tr>\n",
              "    <tr>\n",
              "      <th>4</th>\n",
              "      <td>Petter Mattei's \"Love in the Time of Money\" is...</td>\n",
              "      <td>positive</td>\n",
              "    </tr>\n",
              "  </tbody>\n",
              "</table>\n",
              "</div>\n",
              "    <div class=\"colab-df-buttons\">\n",
              "\n",
              "  <div class=\"colab-df-container\">\n",
              "    <button class=\"colab-df-convert\" onclick=\"convertToInteractive('df-ded0cb1c-5436-4736-a8b1-f2b267c470ca')\"\n",
              "            title=\"Convert this dataframe to an interactive table.\"\n",
              "            style=\"display:none;\">\n",
              "\n",
              "  <svg xmlns=\"http://www.w3.org/2000/svg\" height=\"24px\" viewBox=\"0 -960 960 960\">\n",
              "    <path d=\"M120-120v-720h720v720H120Zm60-500h600v-160H180v160Zm220 220h160v-160H400v160Zm0 220h160v-160H400v160ZM180-400h160v-160H180v160Zm440 0h160v-160H620v160ZM180-180h160v-160H180v160Zm440 0h160v-160H620v160Z\"/>\n",
              "  </svg>\n",
              "    </button>\n",
              "\n",
              "  <style>\n",
              "    .colab-df-container {\n",
              "      display:flex;\n",
              "      gap: 12px;\n",
              "    }\n",
              "\n",
              "    .colab-df-convert {\n",
              "      background-color: #E8F0FE;\n",
              "      border: none;\n",
              "      border-radius: 50%;\n",
              "      cursor: pointer;\n",
              "      display: none;\n",
              "      fill: #1967D2;\n",
              "      height: 32px;\n",
              "      padding: 0 0 0 0;\n",
              "      width: 32px;\n",
              "    }\n",
              "\n",
              "    .colab-df-convert:hover {\n",
              "      background-color: #E2EBFA;\n",
              "      box-shadow: 0px 1px 2px rgba(60, 64, 67, 0.3), 0px 1px 3px 1px rgba(60, 64, 67, 0.15);\n",
              "      fill: #174EA6;\n",
              "    }\n",
              "\n",
              "    .colab-df-buttons div {\n",
              "      margin-bottom: 4px;\n",
              "    }\n",
              "\n",
              "    [theme=dark] .colab-df-convert {\n",
              "      background-color: #3B4455;\n",
              "      fill: #D2E3FC;\n",
              "    }\n",
              "\n",
              "    [theme=dark] .colab-df-convert:hover {\n",
              "      background-color: #434B5C;\n",
              "      box-shadow: 0px 1px 3px 1px rgba(0, 0, 0, 0.15);\n",
              "      filter: drop-shadow(0px 1px 2px rgba(0, 0, 0, 0.3));\n",
              "      fill: #FFFFFF;\n",
              "    }\n",
              "  </style>\n",
              "\n",
              "    <script>\n",
              "      const buttonEl =\n",
              "        document.querySelector('#df-ded0cb1c-5436-4736-a8b1-f2b267c470ca button.colab-df-convert');\n",
              "      buttonEl.style.display =\n",
              "        google.colab.kernel.accessAllowed ? 'block' : 'none';\n",
              "\n",
              "      async function convertToInteractive(key) {\n",
              "        const element = document.querySelector('#df-ded0cb1c-5436-4736-a8b1-f2b267c470ca');\n",
              "        const dataTable =\n",
              "          await google.colab.kernel.invokeFunction('convertToInteractive',\n",
              "                                                    [key], {});\n",
              "        if (!dataTable) return;\n",
              "\n",
              "        const docLinkHtml = 'Like what you see? Visit the ' +\n",
              "          '<a target=\"_blank\" href=https://colab.research.google.com/notebooks/data_table.ipynb>data table notebook</a>'\n",
              "          + ' to learn more about interactive tables.';\n",
              "        element.innerHTML = '';\n",
              "        dataTable['output_type'] = 'display_data';\n",
              "        await google.colab.output.renderOutput(dataTable, element);\n",
              "        const docLink = document.createElement('div');\n",
              "        docLink.innerHTML = docLinkHtml;\n",
              "        element.appendChild(docLink);\n",
              "      }\n",
              "    </script>\n",
              "  </div>\n",
              "\n",
              "\n",
              "<div id=\"df-519f58fa-724c-4122-972b-5a304128e202\">\n",
              "  <button class=\"colab-df-quickchart\" onclick=\"quickchart('df-519f58fa-724c-4122-972b-5a304128e202')\"\n",
              "            title=\"Suggest charts\"\n",
              "            style=\"display:none;\">\n",
              "\n",
              "<svg xmlns=\"http://www.w3.org/2000/svg\" height=\"24px\"viewBox=\"0 0 24 24\"\n",
              "     width=\"24px\">\n",
              "    <g>\n",
              "        <path d=\"M19 3H5c-1.1 0-2 .9-2 2v14c0 1.1.9 2 2 2h14c1.1 0 2-.9 2-2V5c0-1.1-.9-2-2-2zM9 17H7v-7h2v7zm4 0h-2V7h2v10zm4 0h-2v-4h2v4z\"/>\n",
              "    </g>\n",
              "</svg>\n",
              "  </button>\n",
              "\n",
              "<style>\n",
              "  .colab-df-quickchart {\n",
              "      --bg-color: #E8F0FE;\n",
              "      --fill-color: #1967D2;\n",
              "      --hover-bg-color: #E2EBFA;\n",
              "      --hover-fill-color: #174EA6;\n",
              "      --disabled-fill-color: #AAA;\n",
              "      --disabled-bg-color: #DDD;\n",
              "  }\n",
              "\n",
              "  [theme=dark] .colab-df-quickchart {\n",
              "      --bg-color: #3B4455;\n",
              "      --fill-color: #D2E3FC;\n",
              "      --hover-bg-color: #434B5C;\n",
              "      --hover-fill-color: #FFFFFF;\n",
              "      --disabled-bg-color: #3B4455;\n",
              "      --disabled-fill-color: #666;\n",
              "  }\n",
              "\n",
              "  .colab-df-quickchart {\n",
              "    background-color: var(--bg-color);\n",
              "    border: none;\n",
              "    border-radius: 50%;\n",
              "    cursor: pointer;\n",
              "    display: none;\n",
              "    fill: var(--fill-color);\n",
              "    height: 32px;\n",
              "    padding: 0;\n",
              "    width: 32px;\n",
              "  }\n",
              "\n",
              "  .colab-df-quickchart:hover {\n",
              "    background-color: var(--hover-bg-color);\n",
              "    box-shadow: 0 1px 2px rgba(60, 64, 67, 0.3), 0 1px 3px 1px rgba(60, 64, 67, 0.15);\n",
              "    fill: var(--button-hover-fill-color);\n",
              "  }\n",
              "\n",
              "  .colab-df-quickchart-complete:disabled,\n",
              "  .colab-df-quickchart-complete:disabled:hover {\n",
              "    background-color: var(--disabled-bg-color);\n",
              "    fill: var(--disabled-fill-color);\n",
              "    box-shadow: none;\n",
              "  }\n",
              "\n",
              "  .colab-df-spinner {\n",
              "    border: 2px solid var(--fill-color);\n",
              "    border-color: transparent;\n",
              "    border-bottom-color: var(--fill-color);\n",
              "    animation:\n",
              "      spin 1s steps(1) infinite;\n",
              "  }\n",
              "\n",
              "  @keyframes spin {\n",
              "    0% {\n",
              "      border-color: transparent;\n",
              "      border-bottom-color: var(--fill-color);\n",
              "      border-left-color: var(--fill-color);\n",
              "    }\n",
              "    20% {\n",
              "      border-color: transparent;\n",
              "      border-left-color: var(--fill-color);\n",
              "      border-top-color: var(--fill-color);\n",
              "    }\n",
              "    30% {\n",
              "      border-color: transparent;\n",
              "      border-left-color: var(--fill-color);\n",
              "      border-top-color: var(--fill-color);\n",
              "      border-right-color: var(--fill-color);\n",
              "    }\n",
              "    40% {\n",
              "      border-color: transparent;\n",
              "      border-right-color: var(--fill-color);\n",
              "      border-top-color: var(--fill-color);\n",
              "    }\n",
              "    60% {\n",
              "      border-color: transparent;\n",
              "      border-right-color: var(--fill-color);\n",
              "    }\n",
              "    80% {\n",
              "      border-color: transparent;\n",
              "      border-right-color: var(--fill-color);\n",
              "      border-bottom-color: var(--fill-color);\n",
              "    }\n",
              "    90% {\n",
              "      border-color: transparent;\n",
              "      border-bottom-color: var(--fill-color);\n",
              "    }\n",
              "  }\n",
              "</style>\n",
              "\n",
              "  <script>\n",
              "    async function quickchart(key) {\n",
              "      const quickchartButtonEl =\n",
              "        document.querySelector('#' + key + ' button');\n",
              "      quickchartButtonEl.disabled = true;  // To prevent multiple clicks.\n",
              "      quickchartButtonEl.classList.add('colab-df-spinner');\n",
              "      try {\n",
              "        const charts = await google.colab.kernel.invokeFunction(\n",
              "            'suggestCharts', [key], {});\n",
              "      } catch (error) {\n",
              "        console.error('Error during call to suggestCharts:', error);\n",
              "      }\n",
              "      quickchartButtonEl.classList.remove('colab-df-spinner');\n",
              "      quickchartButtonEl.classList.add('colab-df-quickchart-complete');\n",
              "    }\n",
              "    (() => {\n",
              "      let quickchartButtonEl =\n",
              "        document.querySelector('#df-519f58fa-724c-4122-972b-5a304128e202 button');\n",
              "      quickchartButtonEl.style.display =\n",
              "        google.colab.kernel.accessAllowed ? 'block' : 'none';\n",
              "    })();\n",
              "  </script>\n",
              "</div>\n",
              "    </div>\n",
              "  </div>\n"
            ],
            "application/vnd.google.colaboratory.intrinsic+json": {
              "type": "dataframe",
              "variable_name": "imdb",
              "summary": "{\n  \"name\": \"imdb\",\n  \"rows\": 50000,\n  \"fields\": [\n    {\n      \"column\": \"review\",\n      \"properties\": {\n        \"dtype\": \"string\",\n        \"num_unique_values\": 49582,\n        \"samples\": [\n          \"\\\"Soul Plane\\\" is a horrible attempt at comedy that only should appeal people with thick skulls, bloodshot eyes and furry pawns. <br /><br />The plot is not only incoherent but also non-existent, acting is mostly sub sub-par with a gang of highly moronic and dreadful characters thrown in for bad measure, jokes are often spotted miles ahead and almost never even a bit amusing. This movie lacks any structure and is full of racial stereotypes that must have seemed old even in the fifties, the only thing it really has going for it is some pretty ladies, but really, if you want that you can rent something from the \\\"Adult\\\" section. OK?<br /><br />I can hardly see anything here to recommend since you'll probably have a lot a better and productive time chasing rats with a sledgehammer or inventing waterproof teabags or whatever.<br /><br />2/10\",\n          \"Guest from the Future tells a fascinating story of time travel, friendship, battle of good and evil -- all with a small budget, child actors, and few special effects. Something for Spielberg and Lucas to learn from. ;) A sixth-grader Kolya \\\"Nick\\\" Gerasimov finds a time machine in the basement of a decrepit building and travels 100 years into the future. He discovers a near-perfect, utopian society where robots play guitars and write poetry, everyone is kind to each other and people enjoy everything technology has to offer. Alice is the daughter of a prominent scientist who invented a device called Mielophone that allows to read minds of humans and animals. The device can be put to both good and bad use, depending on whose hands it falls into. When two evil space pirates from Saturn who want to rule the universe attempt to steal Mielophone, it falls into the hands of 20th century school boy Nick. With the pirates hot on his tracks, he travels back to his time, followed by the pirates, and Alice. Chaos, confusion and funny situations follow as the luckless pirates try to blend in with the earthlings. Alice enrolls in the same school Nick goes to and demonstrates superhuman abilities in PE class. The catch is, Alice doesn't know what Nick looks like, while the pirates do. Also, the pirates are able to change their appearance and turn literally into anyone. (Hmm, I wonder if this is where James Cameron got the idea for Terminator...) Who gets to Nick -- and Mielophone -- first? Excellent plot, non-stop adventures, and great soundtrack. I wish Hollywood made kid movies like this one...\",\n          \"\\\"National Treasure\\\" (2004) is a thoroughly misguided hodge-podge of plot entanglements that borrow from nearly every cloak and dagger government conspiracy clich\\u00e9 that has ever been written. The film stars Nicholas Cage as Benjamin Franklin Gates (how precious is that, I ask you?); a seemingly normal fellow who, for no other reason than being of a lineage of like-minded misguided fortune hunters, decides to steal a 'national treasure' that has been hidden by the United States founding fathers. After a bit of subtext and background that plays laughably (unintentionally) like Indiana Jones meets The Patriot, the film degenerates into one misguided whimsy after another \\u0096 attempting to create a 'Stanley Goodspeed' regurgitation of Nicholas Cage and launch the whole convoluted mess forward with a series of high octane, but disconnected misadventures.<br /><br />The relevancy and logic to having George Washington and his motley crew of patriots burying a king's ransom someplace on native soil, and then, going through the meticulous plan of leaving clues scattered throughout U.S. currency art work, is something that director Jon Turteltaub never quite gets around to explaining. Couldn't Washington found better usage for such wealth during the start up of the country? Hence, we are left with a mystery built on top of an enigma that is already on shaky ground by the time Ben appoints himself the new custodian of this untold wealth. Ben's intentions are noble \\u0096 if confusing. He's set on protecting the treasure. For who and when?\\u0085your guess is as good as mine.<br /><br />But there are a few problems with Ben's crusade. First up, his friend, Ian Holmes (Sean Bean) decides that he can't wait for Ben to make up his mind about stealing the Declaration of Independence from the National Archives (oh, yeah \\u0096 brilliant idea!). Presumably, the back of that famous document holds the secret answer to the ultimate fortune. So Ian tries to kill Ben. The assassination attempt is, of course, unsuccessful, if overly melodramatic. It also affords Ben the opportunity to pick up, and pick on, the very sultry curator of the archives, Abigail Chase (Diane Kruger). She thinks Ben is clearly a nut \\u0096 at least at the beginning. But true to action/romance form, Abby's resolve melts quicker than you can say, \\\"is that the Hope Diamond?\\\" The film moves into full X-File-ish mode, as the FBI, mistakenly believing that Ben is behind the theft, retaliate in various benign ways that lead to a multi-layering of action sequences reminiscent of Mission Impossible meets The Fugitive. Honestly, don't those guys ever get 'intelligence' information that is correct? In the final analysis, \\\"National Treasure\\\" isn't great film making, so much as it's a patchwork rehash of tired old bits from other movies, woven together from scraps, the likes of which would make IL' Betsy Ross blush.<br /><br />The Buena Vista DVD delivers a far more generous treatment than this film is deserving of. The anamorphic widescreen picture exhibits a very smooth and finely detailed image with very rich colors, natural flesh tones, solid blacks and clean whites. The stylized image is also free of blemishes and digital enhancements. The audio is 5.1 and delivers a nice sonic boom to your side and rear speakers with intensity and realism. Extras include a host of promotional junket material that is rather deep and over the top in its explanation of how and why this film was made. If only, as an audience, we had had more clarification as to why Ben and co. were chasing after an illusive treasure, this might have been one good flick. Extras conclude with the theatrical trailer, audio commentary and deleted scenes. Not for the faint-hearted \\u0096 just the thick-headed.\"\n        ],\n        \"semantic_type\": \"\",\n        \"description\": \"\"\n      }\n    },\n    {\n      \"column\": \"sentiment\",\n      \"properties\": {\n        \"dtype\": \"category\",\n        \"num_unique_values\": 2,\n        \"samples\": [\n          \"negative\",\n          \"positive\"\n        ],\n        \"semantic_type\": \"\",\n        \"description\": \"\"\n      }\n    }\n  ]\n}"
            }
          },
          "metadata": {},
          "execution_count": 2
        }
      ]
    },
    {
      "cell_type": "code",
      "source": [
        "# Count the number of occurrences of each unique value in the \"sentiment\" column\n",
        "imdb.sentiment.value_counts()"
      ],
      "metadata": {
        "colab": {
          "base_uri": "https://localhost:8080/"
        },
        "id": "YHenMFKGoF3f",
        "outputId": "6947e474-b40a-47a5-af3c-fd98ca456c49"
      },
      "execution_count": 3,
      "outputs": [
        {
          "output_type": "execute_result",
          "data": {
            "text/plain": [
              "positive    25000\n",
              "negative    25000\n",
              "Name: sentiment, dtype: int64"
            ]
          },
          "metadata": {},
          "execution_count": 3
        }
      ]
    },
    {
      "cell_type": "code",
      "source": [
        "text = imdb['review'][0]  # Selecting the first review from the 'review' column and assigning it to the variable 'text'\n",
        "print(text)  # Printing the content of the 'text' variable, which contains the first review from the IMDb dataset\n",
        "print(\"<===============>\")  # Printing a separator to visually distinguish between the review text and the tokenized version of the text\n",
        "print(word_tokenize(text))  # Tokenizing the review text using the 'word_tokenize()' function from the NLTK library. This function splits the text into individual words and punctuation marks, creating a list of tokens\n"
      ],
      "metadata": {
        "colab": {
          "base_uri": "https://localhost:8080/"
        },
        "id": "XKB_Wb9soi7V",
        "outputId": "3c6d5dc8-2eaf-498f-d684-d6b4a8437429"
      },
      "execution_count": 5,
      "outputs": [
        {
          "output_type": "stream",
          "name": "stdout",
          "text": [
            "One of the other reviewers has mentioned that after watching just 1 Oz episode you'll be hooked. They are right, as this is exactly what happened with me.<br /><br />The first thing that struck me about Oz was its brutality and unflinching scenes of violence, which set in right from the word GO. Trust me, this is not a show for the faint hearted or timid. This show pulls no punches with regards to drugs, sex or violence. Its is hardcore, in the classic use of the word.<br /><br />It is called OZ as that is the nickname given to the Oswald Maximum Security State Penitentary. It focuses mainly on Emerald City, an experimental section of the prison where all the cells have glass fronts and face inwards, so privacy is not high on the agenda. Em City is home to many..Aryans, Muslims, gangstas, Latinos, Christians, Italians, Irish and more....so scuffles, death stares, dodgy dealings and shady agreements are never far away.<br /><br />I would say the main appeal of the show is due to the fact that it goes where other shows wouldn't dare. Forget pretty pictures painted for mainstream audiences, forget charm, forget romance...OZ doesn't mess around. The first episode I ever saw struck me as so nasty it was surreal, I couldn't say I was ready for it, but as I watched more, I developed a taste for Oz, and got accustomed to the high levels of graphic violence. Not just violence, but injustice (crooked guards who'll be sold out for a nickel, inmates who'll kill on order and get away with it, well mannered, middle class inmates being turned into prison bitches due to their lack of street skills or prison experience) Watching Oz, you may become comfortable with what is uncomfortable viewing....thats if you can get in touch with your darker side.\n",
            "<===============>\n",
            "['One', 'of', 'the', 'other', 'reviewers', 'has', 'mentioned', 'that', 'after', 'watching', 'just', '1', 'Oz', 'episode', 'you', \"'ll\", 'be', 'hooked', '.', 'They', 'are', 'right', ',', 'as', 'this', 'is', 'exactly', 'what', 'happened', 'with', 'me.', '<', 'br', '/', '>', '<', 'br', '/', '>', 'The', 'first', 'thing', 'that', 'struck', 'me', 'about', 'Oz', 'was', 'its', 'brutality', 'and', 'unflinching', 'scenes', 'of', 'violence', ',', 'which', 'set', 'in', 'right', 'from', 'the', 'word', 'GO', '.', 'Trust', 'me', ',', 'this', 'is', 'not', 'a', 'show', 'for', 'the', 'faint', 'hearted', 'or', 'timid', '.', 'This', 'show', 'pulls', 'no', 'punches', 'with', 'regards', 'to', 'drugs', ',', 'sex', 'or', 'violence', '.', 'Its', 'is', 'hardcore', ',', 'in', 'the', 'classic', 'use', 'of', 'the', 'word.', '<', 'br', '/', '>', '<', 'br', '/', '>', 'It', 'is', 'called', 'OZ', 'as', 'that', 'is', 'the', 'nickname', 'given', 'to', 'the', 'Oswald', 'Maximum', 'Security', 'State', 'Penitentary', '.', 'It', 'focuses', 'mainly', 'on', 'Emerald', 'City', ',', 'an', 'experimental', 'section', 'of', 'the', 'prison', 'where', 'all', 'the', 'cells', 'have', 'glass', 'fronts', 'and', 'face', 'inwards', ',', 'so', 'privacy', 'is', 'not', 'high', 'on', 'the', 'agenda', '.', 'Em', 'City', 'is', 'home', 'to', 'many', '..', 'Aryans', ',', 'Muslims', ',', 'gangstas', ',', 'Latinos', ',', 'Christians', ',', 'Italians', ',', 'Irish', 'and', 'more', '....', 'so', 'scuffles', ',', 'death', 'stares', ',', 'dodgy', 'dealings', 'and', 'shady', 'agreements', 'are', 'never', 'far', 'away.', '<', 'br', '/', '>', '<', 'br', '/', '>', 'I', 'would', 'say', 'the', 'main', 'appeal', 'of', 'the', 'show', 'is', 'due', 'to', 'the', 'fact', 'that', 'it', 'goes', 'where', 'other', 'shows', 'would', \"n't\", 'dare', '.', 'Forget', 'pretty', 'pictures', 'painted', 'for', 'mainstream', 'audiences', ',', 'forget', 'charm', ',', 'forget', 'romance', '...', 'OZ', 'does', \"n't\", 'mess', 'around', '.', 'The', 'first', 'episode', 'I', 'ever', 'saw', 'struck', 'me', 'as', 'so', 'nasty', 'it', 'was', 'surreal', ',', 'I', 'could', \"n't\", 'say', 'I', 'was', 'ready', 'for', 'it', ',', 'but', 'as', 'I', 'watched', 'more', ',', 'I', 'developed', 'a', 'taste', 'for', 'Oz', ',', 'and', 'got', 'accustomed', 'to', 'the', 'high', 'levels', 'of', 'graphic', 'violence', '.', 'Not', 'just', 'violence', ',', 'but', 'injustice', '(', 'crooked', 'guards', 'who', \"'ll\", 'be', 'sold', 'out', 'for', 'a', 'nickel', ',', 'inmates', 'who', \"'ll\", 'kill', 'on', 'order', 'and', 'get', 'away', 'with', 'it', ',', 'well', 'mannered', ',', 'middle', 'class', 'inmates', 'being', 'turned', 'into', 'prison', 'bitches', 'due', 'to', 'their', 'lack', 'of', 'street', 'skills', 'or', 'prison', 'experience', ')', 'Watching', 'Oz', ',', 'you', 'may', 'become', 'comfortable', 'with', 'what', 'is', 'uncomfortable', 'viewing', '....', 'thats', 'if', 'you', 'can', 'get', 'in', 'touch', 'with', 'your', 'darker', 'side', '.']\n"
          ]
        }
      ]
    },
    {
      "cell_type": "code",
      "source": [
        "corpus = []  # Initialize an empty list to store tokenized texts\n",
        "\n",
        "# Iterate over each review text in the 'review' column of the IMDb dataset\n",
        "for text in imdb['review']:\n",
        "    # Tokenize each review text into individual words, convert to lowercase, and store in the 'words' list\n",
        "    words = [word.lower() for word in word_tokenize(text)]\n",
        "    # Append the tokenized text (list of words) to the 'corpus' list\n",
        "    corpus.append(words)\n"
      ],
      "metadata": {
        "id": "GKMHz4ftoxmK"
      },
      "execution_count": 6,
      "outputs": []
    },
    {
      "cell_type": "code",
      "source": [
        "num_words = len(corpus)  # Calculate the total number of words in the corpus\n",
        "print(num_words)  # Print the total number of words in the corpus"
      ],
      "metadata": {
        "colab": {
          "base_uri": "https://localhost:8080/"
        },
        "id": "WhTOVKJip7ox",
        "outputId": "f30a43ee-d4ba-4923-bfd7-a40f74ae19ab"
      },
      "execution_count": 7,
      "outputs": [
        {
          "output_type": "stream",
          "name": "stdout",
          "text": [
            "50000\n"
          ]
        }
      ]
    },
    {
      "cell_type": "code",
      "source": [
        "# Check the shape of the IMDb DataFrame\n",
        "imdb.shape"
      ],
      "metadata": {
        "colab": {
          "base_uri": "https://localhost:8080/"
        },
        "id": "-rq6y3h3qbOp",
        "outputId": "3d1a3219-194c-4751-95b9-92948c5b4baa"
      },
      "execution_count": 8,
      "outputs": [
        {
          "output_type": "execute_result",
          "data": {
            "text/plain": [
              "(50000, 2)"
            ]
          },
          "metadata": {},
          "execution_count": 8
        }
      ]
    },
    {
      "cell_type": "code",
      "source": [
        "# Calculate the size of the training set using 80% of the total number of rows in the IMDb DataFrame\n",
        "train_size = int(imdb.shape[0] * 0.8)\n",
        "\n",
        "# Split the review text into training set (X_train) and testing set (X_test) based on the calculated train_size\n",
        "X_train = imdb.review[:train_size]\n",
        "X_test = imdb.review[train_size:]\n",
        "\n",
        "# Split the sentiment labels into training set (y_train) and testing set (y_test) based on the calculated train_size\n",
        "y_train = imdb.sentiment[:train_size]\n",
        "y_test = imdb.sentiment[train_size:]\n"
      ],
      "metadata": {
        "id": "aZa4GdIqqkoX"
      },
      "execution_count": 11,
      "outputs": []
    },
    {
      "cell_type": "code",
      "source": [
        "tokenizer = Tokenizer(num_words)  # Initialize a Tokenizer with a specified maximum number of words\n",
        "tokenizer.fit_on_texts(X_train)  # Fit the Tokenizer on the training set review text to generate word indices\n",
        "X_train = tokenizer.texts_to_sequences(X_train)  # Convert the text data in the training set to sequences of word indices\n",
        "X_train = pad_sequences(X_train, maxlen=128, truncating='post', padding='post')  # Pad the sequences to ensure uniform length (maxlen=128), truncating and padding as needed\n"
      ],
      "metadata": {
        "id": "WN095icMrCQD"
      },
      "execution_count": 12,
      "outputs": []
    },
    {
      "cell_type": "code",
      "source": [
        "X_train[0], len(X_train[0])"
      ],
      "metadata": {
        "colab": {
          "base_uri": "https://localhost:8080/"
        },
        "id": "R8GazndRr5kL",
        "outputId": "fe00beb5-fb0b-4e24-a8a0-521daad3f787"
      },
      "execution_count": 13,
      "outputs": [
        {
          "output_type": "execute_result",
          "data": {
            "text/plain": [
              "(array([   27,     4,     1,    80,  2102,    45,  1073,    12,   100,\n",
              "          147,    39,   316,  2968,   409,   459,    26,  3173,    33,\n",
              "           23,   200,    14,    11,     6,   614,    48,   606,    16,\n",
              "           68,     7,     7,     1,    87,   148,    12,  3256,    68,\n",
              "           41,  2968,    13,    92,  5626,     2, 16202,   134,     4,\n",
              "          569,    60,   271,     8,   200,    36,     1,   673,   139,\n",
              "         1712,    68,    11,     6,    21,     3,   118,    15,     1,\n",
              "         7870,  2257,    38, 11540,    11,   118,  2495,    54,  5662,\n",
              "           16,  5182,     5,  1438,   377,    38,   569,    92,     6,\n",
              "         3730,     8,     1,   360,   353,     4,     1,   673,     7,\n",
              "            7,     9,     6,   431,  2968,    14,    12,     6,     1,\n",
              "        11736,   356,     5,     1, 14689,  6526,  2594,  1087,     9,\n",
              "         2661,  1432,    20, 22583,   534,    32,  4795,  2451,     4,\n",
              "            1,  1193,   117,    29,     1,  6893,    25,  2874, 12191,\n",
              "            2,   392], dtype=int32),\n",
              " 128)"
            ]
          },
          "metadata": {},
          "execution_count": 13
        }
      ]
    },
    {
      "cell_type": "code",
      "source": [
        "X_test = tokenizer.texts_to_sequences(X_test)  # Convert the text data in the testing set to sequences of word indices\n",
        "X_text = pad_sequences(X_test, maxlen=128, truncating='post', padding='post')  # Pad the sequences to ensure uniform length (maxlen=128), truncating and padding as needed"
      ],
      "metadata": {
        "id": "uGeD6WwZsSrv"
      },
      "execution_count": 14,
      "outputs": []
    },
    {
      "cell_type": "code",
      "source": [
        "X_test[0], len(X_test[0])"
      ],
      "metadata": {
        "colab": {
          "base_uri": "https://localhost:8080/"
        },
        "id": "aF0lxQRHswZV",
        "outputId": "aee6cb4e-4a9b-43fb-f56f-0f43f1a1d6c6"
      },
      "execution_count": 15,
      "outputs": [
        {
          "output_type": "execute_result",
          "data": {
            "text/plain": [
              "([87,\n",
              "  122,\n",
              "  10,\n",
              "  180,\n",
              "  5,\n",
              "  132,\n",
              "  12,\n",
              "  10,\n",
              "  7131,\n",
              "  3717,\n",
              "  20,\n",
              "  1,\n",
              "  1001,\n",
              "  2285,\n",
              "  2,\n",
              "  10,\n",
              "  255,\n",
              "  1,\n",
              "  17,\n",
              "  2431,\n",
              "  10,\n",
              "  1311,\n",
              "  5,\n",
              "  103,\n",
              "  1,\n",
              "  222,\n",
              "  6349,\n",
              "  4,\n",
              "  3,\n",
              "  19,\n",
              "  11,\n",
              "  17,\n",
              "  974,\n",
              "  3,\n",
              "  351,\n",
              "  5,\n",
              "  215,\n",
              "  1011,\n",
              "  415,\n",
              "  9,\n",
              "  13,\n",
              "  215,\n",
              "  1380,\n",
              "  56,\n",
              "  235,\n",
              "  402,\n",
              "  300,\n",
              "  4,\n",
              "  316,\n",
              "  23,\n",
              "  257,\n",
              "  19,\n",
              "  961,\n",
              "  12,\n",
              "  22250,\n",
              "  12,\n",
              "  33,\n",
              "  66,\n",
              "  61,\n",
              "  212,\n",
              "  53,\n",
              "  16,\n",
              "  11,\n",
              "  113,\n",
              "  13,\n",
              "  497,\n",
              "  2,\n",
              "  1,\n",
              "  102,\n",
              "  70,\n",
              "  5358,\n",
              "  15,\n",
              "  1,\n",
              "  88,\n",
              "  172,\n",
              "  1,\n",
              "  473,\n",
              "  824,\n",
              "  8,\n",
              "  1,\n",
              "  64,\n",
              "  67,\n",
              "  54,\n",
              "  49,\n",
              "  2406,\n",
              "  30,\n",
              "  29,\n",
              "  33,\n",
              "  90,\n",
              "  40,\n",
              "  35787,\n",
              "  83,\n",
              "  46,\n",
              "  438,\n",
              "  4,\n",
              "  3,\n",
              "  74,\n",
              "  220,\n",
              "  2,\n",
              "  10,\n",
              "  115,\n",
              "  21,\n",
              "  63,\n",
              "  12,\n",
              "  30,\n",
              "  29,\n",
              "  268,\n",
              "  10,\n",
              "  1059,\n",
              "  137,\n",
              "  10,\n",
              "  78,\n",
              "  21,\n",
              "  119,\n",
              "  28,\n",
              "  13,\n",
              "  1,\n",
              "  88,\n",
              "  175,\n",
              "  5,\n",
              "  728,\n",
              "  3423,\n",
              "  108,\n",
              "  8,\n",
              "  1,\n",
              "  17,\n",
              "  10,\n",
              "  115,\n",
              "  21,\n",
              "  5810,\n",
              "  42,\n",
              "  99,\n",
              "  289,\n",
              "  15,\n",
              "  11,\n",
              "  1178,\n",
              "  10,\n",
              "  213,\n",
              "  650,\n",
              "  19107,\n",
              "  58,\n",
              "  212,\n",
              "  5,\n",
              "  1,\n",
              "  2242,\n",
              "  4,\n",
              "  11,\n",
              "  369,\n",
              "  2431,\n",
              "  17,\n",
              "  2,\n",
              "  805,\n",
              "  3,\n",
              "  7810,\n",
              "  2139,\n",
              "  1640,\n",
              "  29,\n",
              "  10,\n",
              "  25,\n",
              "  5,\n",
              "  132,\n",
              "  1567],\n",
              " 162)"
            ]
          },
          "metadata": {},
          "execution_count": 15
        }
      ]
    },
    {
      "cell_type": "code",
      "source": [
        "print(X_train.shape, y_train.shape)  # Print the shapes of the training data (X_train) and its corresponding labels (y_train)\n",
        "print(len(X_test), len(y_test))      # Print the lengths of the testing data (X_test) and its corresponding labels (y_test)\n"
      ],
      "metadata": {
        "colab": {
          "base_uri": "https://localhost:8080/"
        },
        "id": "aiLcRRR9s1xU",
        "outputId": "62431deb-5027-43f7-e203-af10fdd94efa"
      },
      "execution_count": 17,
      "outputs": [
        {
          "output_type": "stream",
          "name": "stdout",
          "text": [
            "(40000, 128) (40000,)\n",
            "10000 10000\n"
          ]
        }
      ]
    },
    {
      "cell_type": "code",
      "source": [
        "le = LabelEncoder()  # Initialize a LabelEncoder object\n",
        "y_train = le.fit_transform(y_train)  # Fit and transform the training set labels to numerical format\n",
        "y_test = le.transform(y_test)        # Transform the testing set labels to numerical format using the same encoder"
      ],
      "metadata": {
        "id": "2MRfal9Etn-P"
      },
      "execution_count": 18,
      "outputs": []
    },
    {
      "cell_type": "code",
      "source": [
        "model = Sequential()  # Initialize a Sequential model\n",
        "\n",
        "# Add an Embedding layer to the model with the specified parameters:\n",
        "# input_dim=num_words: Number of unique words in the vocabulary\n",
        "# output_dim=100: Dimensionality of the dense embedding\n",
        "# input_length=128: Length of input sequences\n",
        "# trainable=True: Allow the embedding weights to be updated during training\n",
        "model.add(Embedding(input_dim=num_words, output_dim=100, input_length=128, trainable=True))\n",
        "\n",
        "# Add an LSTM layer to the model with 100 units, dropout rate of 0.1, and return_sequences=True to return sequences\n",
        "model.add(LSTM(100, dropout=0.1, return_sequences=True))\n",
        "\n",
        "# Add another LSTM layer to the model with 100 units and dropout rate of 0.1\n",
        "model.add(LSTM(100, dropout=0.1))\n",
        "\n",
        "# Add a Dense layer with 1 unit and sigmoid activation function for binary classification\n",
        "model.add(Dense(1, activation='sigmoid'))\n",
        "\n",
        "# Compile the model with binary_crossentropy loss function, adam optimizer, and accuracy metric\n",
        "model.compile(loss='binary_crossentropy', optimizer='adam', metrics=['accuracy'])"
      ],
      "metadata": {
        "id": "OrjIEaGcuLQW"
      },
      "execution_count": 19,
      "outputs": []
    },
    {
      "cell_type": "code",
      "source": [
        "model.summary()"
      ],
      "metadata": {
        "colab": {
          "base_uri": "https://localhost:8080/"
        },
        "id": "pJMTqzxvvGos",
        "outputId": "fcb30470-5798-4e77-9d89-aabb91c550a9"
      },
      "execution_count": 20,
      "outputs": [
        {
          "output_type": "stream",
          "name": "stdout",
          "text": [
            "Model: \"sequential\"\n",
            "_________________________________________________________________\n",
            " Layer (type)                Output Shape              Param #   \n",
            "=================================================================\n",
            " embedding (Embedding)       (None, 128, 100)          5000000   \n",
            "                                                                 \n",
            " lstm (LSTM)                 (None, 128, 100)          80400     \n",
            "                                                                 \n",
            " lstm_1 (LSTM)               (None, 100)               80400     \n",
            "                                                                 \n",
            " dense (Dense)               (None, 1)                 101       \n",
            "                                                                 \n",
            "=================================================================\n",
            "Total params: 5160901 (19.69 MB)\n",
            "Trainable params: 5160901 (19.69 MB)\n",
            "Non-trainable params: 0 (0.00 Byte)\n",
            "_________________________________________________________________\n"
          ]
        }
      ]
    },
    {
      "cell_type": "code",
      "source": [
        "import numpy as np\n",
        "\n",
        "# Convert X_train from list of lists to a numpy array\n",
        "X_train = np.array(X_train)\n",
        "\n",
        "# Convert y_train from list to a numpy array\n",
        "y_train = np.array(y_train)\n",
        "\n",
        "# Pad sequences in X_test to the same length as the longest sequence in the dataset\n",
        "X_test = pad_sequences(X_test, maxlen=128, truncating='post', padding='post')\n",
        "\n",
        "# Convert X_test from list of padded sequences to a numpy array\n",
        "X_test = np.array(X_test)\n",
        "\n",
        "# Train the model using the converted training data\n",
        "history = model.fit(X_train, y_train, epochs=5, batch_size=64, validation_data=(X_test, y_test))\n"
      ],
      "metadata": {
        "colab": {
          "base_uri": "https://localhost:8080/"
        },
        "id": "bvXIvskCvJAc",
        "outputId": "d2b3fddc-3a6b-4058-b35a-cc7fcd20aa42"
      },
      "execution_count": 25,
      "outputs": [
        {
          "output_type": "stream",
          "name": "stdout",
          "text": [
            "Epoch 1/5\n",
            "625/625 [==============================] - 335s 536ms/step - loss: 0.1090 - accuracy: 0.9639 - val_loss: 0.5144 - val_accuracy: 0.8466\n",
            "Epoch 2/5\n",
            "625/625 [==============================] - 352s 563ms/step - loss: 0.0902 - accuracy: 0.9714 - val_loss: 0.5451 - val_accuracy: 0.8500\n",
            "Epoch 3/5\n",
            "625/625 [==============================] - 335s 536ms/step - loss: 0.0634 - accuracy: 0.9805 - val_loss: 0.6008 - val_accuracy: 0.8356\n",
            "Epoch 4/5\n",
            "625/625 [==============================] - 353s 565ms/step - loss: 0.0457 - accuracy: 0.9853 - val_loss: 0.6125 - val_accuracy: 0.8439\n",
            "Epoch 5/5\n",
            "625/625 [==============================] - 353s 564ms/step - loss: 0.0356 - accuracy: 0.9898 - val_loss: 0.7172 - val_accuracy: 0.8456\n"
          ]
        }
      ]
    },
    {
      "cell_type": "code",
      "source": [
        "plt.figure(figsize=(16, 5))  # Create a new figure with specified size for plotting\n",
        "\n",
        "# Generate the range of epochs for x-axis\n",
        "epochs = range(1, len(history.history['accuracy']) + 1)\n",
        "\n",
        "# Plot the training loss over epochs with a red line and label\n",
        "plt.plot(epochs, history.history['loss'], 'b', label='Training Loss', color='red')\n",
        "\n",
        "# Plot the validation loss over epochs with a blue line and label\n",
        "plt.plot(epochs, history.history['val_loss'], 'b', label='Validation Loss')\n",
        "\n",
        "# Add legend to the plot\n",
        "plt.legend()\n",
        "\n",
        "# Show the plot\n",
        "plt.show\n"
      ],
      "metadata": {
        "colab": {
          "base_uri": "https://localhost:8080/",
          "height": 578
        },
        "id": "9M3zzASHwBY4",
        "outputId": "f66dc8e1-c6be-4911-94ed-397361650788"
      },
      "execution_count": 26,
      "outputs": [
        {
          "output_type": "execute_result",
          "data": {
            "text/plain": [
              "<function matplotlib.pyplot.show(close=None, block=None)>"
            ],
            "text/html": [
              "<div style=\"max-width:800px; border: 1px solid var(--colab-border-color);\"><style>\n",
              "      pre.function-repr-contents {\n",
              "        overflow-x: auto;\n",
              "        padding: 8px 12px;\n",
              "        max-height: 500px;\n",
              "      }\n",
              "\n",
              "      pre.function-repr-contents.function-repr-contents-collapsed {\n",
              "        cursor: pointer;\n",
              "        max-height: 100px;\n",
              "      }\n",
              "    </style>\n",
              "    <pre style=\"white-space: initial; background:\n",
              "         var(--colab-secondary-surface-color); padding: 8px 12px;\n",
              "         border-bottom: 1px solid var(--colab-border-color);\"><b>matplotlib.pyplot.show</b><br/>def show(*args, **kwargs)</pre><pre class=\"function-repr-contents function-repr-contents-collapsed\" style=\"\"><a class=\"filepath\" style=\"display:none\" href=\"#\">/usr/local/lib/python3.10/dist-packages/matplotlib/pyplot.py</a>Display all open figures.\n",
              "\n",
              "Parameters\n",
              "----------\n",
              "block : bool, optional\n",
              "    Whether to wait for all figures to be closed before returning.\n",
              "\n",
              "    If `True` block and run the GUI main loop until all figure windows\n",
              "    are closed.\n",
              "\n",
              "    If `False` ensure that all figure windows are displayed and return\n",
              "    immediately.  In this case, you are responsible for ensuring\n",
              "    that the event loop is running to have responsive figures.\n",
              "\n",
              "    Defaults to True in non-interactive mode and to False in interactive\n",
              "    mode (see `.pyplot.isinteractive`).\n",
              "\n",
              "See Also\n",
              "--------\n",
              "ion : Enable interactive mode, which shows / updates the figure after\n",
              "      every plotting command, so that calling ``show()`` is not necessary.\n",
              "ioff : Disable interactive mode.\n",
              "savefig : Save the figure to an image file instead of showing it on screen.\n",
              "\n",
              "Notes\n",
              "-----\n",
              "**Saving figures to file and showing a window at the same time**\n",
              "\n",
              "If you want an image file as well as a user interface window, use\n",
              "`.pyplot.savefig` before `.pyplot.show`. At the end of (a blocking)\n",
              "``show()`` the figure is closed and thus unregistered from pyplot. Calling\n",
              "`.pyplot.savefig` afterwards would save a new and thus empty figure. This\n",
              "limitation of command order does not apply if the show is non-blocking or\n",
              "if you keep a reference to the figure and use `.Figure.savefig`.\n",
              "\n",
              "**Auto-show in jupyter notebooks**\n",
              "\n",
              "The jupyter backends (activated via ``%matplotlib inline``,\n",
              "``%matplotlib notebook``, or ``%matplotlib widget``), call ``show()`` at\n",
              "the end of every cell by default. Thus, you usually don&#x27;t have to call it\n",
              "explicitly there.</pre>\n",
              "      <script>\n",
              "      if (google.colab.kernel.accessAllowed && google.colab.files && google.colab.files.view) {\n",
              "        for (const element of document.querySelectorAll('.filepath')) {\n",
              "          element.style.display = 'block'\n",
              "          element.onclick = (event) => {\n",
              "            event.preventDefault();\n",
              "            event.stopPropagation();\n",
              "            google.colab.files.view(element.textContent, 401);\n",
              "          };\n",
              "        }\n",
              "      }\n",
              "      for (const element of document.querySelectorAll('.function-repr-contents')) {\n",
              "        element.onclick = (event) => {\n",
              "          event.preventDefault();\n",
              "          event.stopPropagation();\n",
              "          element.classList.toggle('function-repr-contents-collapsed');\n",
              "        };\n",
              "      }\n",
              "      </script>\n",
              "      </div>"
            ]
          },
          "metadata": {},
          "execution_count": 26
        },
        {
          "output_type": "display_data",
          "data": {
            "text/plain": [
              "<Figure size 1600x500 with 1 Axes>"
            ],
            "image/png": "[encoded data removed]"
          },
          "metadata": {}
        }
      ]
    },
    {
      "cell_type": "code",
      "source": [
        "plt.figure(figsize=(16, 5))  # Create a new figure with specified size for plotting\n",
        "\n",
        "# Generate the range of epochs for x-axis\n",
        "epochs = range(1, len(history.history['accuracy']) + 1)\n",
        "\n",
        "# Plot the training accuracy over epochs with a red line and label\n",
        "plt.plot(epochs, history.history['accuracy'], 'b', label='Training Accuracy', color='red')\n",
        "\n",
        "# Plot the validation accuracy over epochs with a blue line and label\n",
        "plt.plot(epochs, history.history['val_accuracy'], 'b', label='Validation Accuracy')\n",
        "\n",
        "# Add legend to the plot\n",
        "plt.legend()\n",
        "\n",
        "# Show the plot\n",
        "plt.show()\n"
      ],
      "metadata": {
        "colab": {
          "base_uri": "https://localhost:8080/",
          "height": 406
        },
        "id": "mNHJkDOSxSOS",
        "outputId": "6dfece2e-924c-4f84-9337-162494ffa80d"
      },
      "execution_count": 27,
      "outputs": [
        {
          "output_type": "display_data",
          "data": {
            "text/plain": [
              "<Figure size 1600x500 with 1 Axes>"
            ],
            "image/png": "[encoded data removed]"
          },
          "metadata": {}
        }
      ]
    },
    {
      "cell_type": "code",
      "source": [
        "validation_sentence=['If you like original gut wrenching laughter you will like this movie. If you are young or old then you will love this movie, hell even my mom liked it.<br /><br />Great Camp!!!']\n",
        "\n",
        "# Tokenize the validation sentence using the tokenizer fitted on the training data\n",
        "validation_sentence_tokened = tokenizer.texts_to_sequences(validation_sentence)\n",
        "\n",
        "# Pad the tokenized validation sentence to ensure uniform length (maxlen=128), truncating and padding as needed\n",
        "validation_sentence_padded = pad_sequences(validation_sentence_tokened, maxlen=128, truncating='post', padding=\"post\")\n",
        "\n",
        "# Print the original validation sentence\n",
        "print(validation_sentence[0])\n",
        "\n",
        "# Print the probability of the validation sentence being positive using the trained model\n",
        "# Use model.predict() to obtain the predicted probability of positive sentiment for the padded validation sentence\n",
        "# Access the first element of the predicted probabilities array since we have only one sentence\n",
        "print(\"Probability of Positive: {}\".format(model.predict(validation_sentence_padded)[0]))\n"
      ],
      "metadata": {
        "colab": {
          "base_uri": "https://localhost:8080/"
        },
        "id": "fdbKL3aAxopi",
        "outputId": "40dc01f3-c963-41b1-a84a-678a0387dbe6"
      },
      "execution_count": 28,
      "outputs": [
        {
          "output_type": "stream",
          "name": "stdout",
          "text": [
            "If you like original gut wrenching laughter you will like this movie. If you are young or old then you will love this movie, hell even my mom liked it.<br /><br />Great Camp!!!\n",
            "1/1 [==============================] - 3s 3s/step\n",
            "Probability of Positive: [0.99933034]\n"
          ]
        }
      ]
    },
    {
      "cell_type": "code",
      "source": [
        "validation_sentence=['Some films just simply should not be remade. This is one of them. In and of itself it is not a bad film. But it fails to capture the flavor and the terror of the 1963 film of the ']\n",
        "\n",
        "# Tokenize the validation sentence using the tokenizer fitted on the training data\n",
        "validation_sentence_tokened = tokenizer.texts_to_sequences(validation_sentence)\n",
        "\n",
        "# Pad the tokenized validation sentence to ensure uniform length (maxlen=128), truncating and padding as needed\n",
        "validation_sentence_padded = pad_sequences(validation_sentence_tokened, maxlen=128, truncating='post', padding=\"post\")\n",
        "\n",
        "# Print the original validation sentence\n",
        "print(validation_sentence[0])\n",
        "\n",
        "# Print the probability of the validation sentence being positive using the trained model\n",
        "# Use model.predict() to obtain the predicted probability of positive sentiment for the padded validation sentence\n",
        "# Access the first element of the predicted probabilities array since we have only one sentence\n",
        "print(\"Probability of Positive: {}\".format(model.predict(validation_sentence_padded)[0]))\n"
      ],
      "metadata": {
        "colab": {
          "base_uri": "https://localhost:8080/"
        },
        "id": "mmeOTzfD9s8Q",
        "outputId": "c062e27a-4095-4133-af25-5544aa719533"
      },
      "execution_count": 29,
      "outputs": [
        {
          "output_type": "stream",
          "name": "stdout",
          "text": [
            "Some films just simply should not be remade. This is one of them. In and of itself it is not a bad film. But it fails to capture the flavor and the terror of the 1963 film of the \n",
            "1/1 [==============================] - 0s 204ms/step\n",
            "Probability of Positive: [0.0003743]\n"
          ]
        }
      ]
    },
    {
      "cell_type": "code",
      "source": [
        "validation_sentence=['I had the terrible misfortune of having to view this b-movie in it All I have to say is--- save your time and money!!! This has got to be the worst b-']\n",
        "\n",
        "# Tokenize the validation sentence using the tokenizer fitted on the training data\n",
        "validation_sentence_tokened = tokenizer.texts_to_sequences(validation_sentence)\n",
        "\n",
        "# Pad the tokenized validation sentence to ensure uniform length (maxlen=128), truncating and padding as needed\n",
        "validation_sentence_padded = pad_sequences(validation_sentence_tokened, maxlen=128, truncating='post', padding=\"post\")\n",
        "\n",
        "# Print the original validation sentence\n",
        "print(validation_sentence[0])\n",
        "\n",
        "# Print the probability of the validation sentence being positive using the trained model\n",
        "# Use model.predict() to obtain the predicted probability of positive sentiment for the padded validation sentence\n",
        "# Access the first element of the predicted probabilities array since we have only one sentence\n",
        "print(\"Probability of Positive: {}\".format(model.predict(validation_sentence_padded)[0]))\n"
      ],
      "metadata": {
        "colab": {
          "base_uri": "https://localhost:8080/"
        },
        "id": "NPaGwWlO9v8e",
        "outputId": "97cf735b-e7a7-4174-9d0b-b77b9a4a48f9"
      },
      "execution_count": 30,
      "outputs": [
        {
          "output_type": "stream",
          "name": "stdout",
          "text": [
            "I had the terrible misfortune of having to view this b-movie in it All I have to say is--- save your time and money!!! This has got to be the worst b-\n",
            "1/1 [==============================] - 0s 113ms/step\n",
            "Probability of Positive: [0.00037294]\n"
          ]
        }
      ]
    },
    {
      "cell_type": "code",
      "source": [
        "validation_sentence=['\"The Cell\" is an exotic masterpiece, a dizzying trip into not only the vast mind of a serial killer, but also into one of a very talented director']\n",
        "\n",
        "# Tokenize the validation sentence using the tokenizer fitted on the training data\n",
        "validation_sentence_tokened = tokenizer.texts_to_sequences(validation_sentence)\n",
        "\n",
        "# Pad the tokenized validation sentence to ensure uniform length (maxlen=128), truncating and padding as needed\n",
        "validation_sentence_padded = pad_sequences(validation_sentence_tokened, maxlen=128, truncating='post', padding=\"post\")\n",
        "\n",
        "# Print the original validation sentence\n",
        "print(validation_sentence[0])\n",
        "\n",
        "# Print the probability of the validation sentence being positive using the trained model\n",
        "# Use model.predict() to obtain the predicted probability of positive sentiment for the padded validation sentence\n",
        "# Access the first element of the predicted probabilities array since we have only one sentence\n",
        "print(\"Probability of Positive: {}\".format(model.predict(validation_sentence_padded)[0]))\n"
      ],
      "metadata": {
        "colab": {
          "base_uri": "https://localhost:8080/"
        },
        "id": "9KiMx-kM9x8K",
        "outputId": "3ef8e3ae-5846-43c2-910c-10fee308050e"
      },
      "execution_count": 32,
      "outputs": [
        {
          "output_type": "stream",
          "name": "stdout",
          "text": [
            "\"The Cell\" is an exotic masterpiece, a dizzying trip into not only the vast mind of a serial killer, but also into one of a very talented director\n",
            "1/1 [==============================] - 0s 60ms/step\n",
            "Probability of Positive: [0.9929594]\n"
          ]
        }
      ]
    },
    {
      "cell_type": "code",
      "source": [
        "validation_sentence=['just cant compete with Rodney Dangerfield. Ty Webb is funny, being the only character from the original. Most of the other characters in the movie lack the punch of the ']\n",
        "\n",
        "# Tokenize the validation sentence using the tokenizer fitted on the training data\n",
        "validation_sentence_tokened = tokenizer.texts_to_sequences(validation_sentence)\n",
        "\n",
        "# Pad the tokenized validation sentence to ensure uniform length (maxlen=128), truncating and padding as needed\n",
        "validation_sentence_padded = pad_sequences(validation_sentence_tokened, maxlen=128, truncating='post', padding=\"post\")\n",
        "\n",
        "# Print the original validation sentence\n",
        "print(validation_sentence[0])\n",
        "\n",
        "# Print the probability of the validation sentence being positive using the trained model\n",
        "# Use model.predict() to obtain the predicted probability of positive sentiment for the padded validation sentence\n",
        "# Access the first element of the predicted probabilities array since we have only one sentence\n",
        "print(\"Probability of Positive: {}\".format(model.predict(validation_sentence_padded)[0]))\n"
      ],
      "metadata": {
        "colab": {
          "base_uri": "https://localhost:8080/"
        },
        "id": "1XrNVjPL9z-3",
        "outputId": "6b04ac6b-bd52-46f8-a741-2eba484ad3ea"
      },
      "execution_count": 33,
      "outputs": [
        {
          "output_type": "stream",
          "name": "stdout",
          "text": [
            "just cant compete with Rodney Dangerfield. Ty Webb is funny, being the only character from the original. Most of the other characters in the movie lack the punch of the \n",
            "1/1 [==============================] - 0s 103ms/step\n",
            "Probability of Positive: [0.00037484]\n"
          ]
        }
      ]
    },
    {
      "cell_type": "code",
      "source": [
        "validation_sentence=['I bought this game on an impulse buy from walmart. I am glad I did. It was very entertaining listening to Sean Connery and playing the game. I thought the graphics were the ']\n",
        "\n",
        "# Tokenize the validation sentence using the tokenizer fitted on the training data\n",
        "validation_sentence_tokened = tokenizer.texts_to_sequences(validation_sentence)\n",
        "\n",
        "# Pad the tokenized validation sentence to ensure uniform length (maxlen=128), truncating and padding as needed\n",
        "validation_sentence_padded = pad_sequences(validation_sentence_tokened, maxlen=128, truncating='post', padding=\"post\")\n",
        "\n",
        "# Print the original validation sentence\n",
        "print(validation_sentence[0])\n",
        "\n",
        "# Print the probability of the validation sentence being positive using the trained model\n",
        "# Use model.predict() to obtain the predicted probability of positive sentiment for the padded validation sentence\n",
        "# Access the first element of the predicted probabilities array since we have only one sentence\n",
        "print(\"Probability of Positive: {}\".format(model.predict(validation_sentence_padded)[0]))\n"
      ],
      "metadata": {
        "colab": {
          "base_uri": "https://localhost:8080/"
        },
        "id": "NLfCcCLe-G8l",
        "outputId": "8e9484d8-5d35-47e9-8e40-3cfdcaf92765"
      },
      "execution_count": 34,
      "outputs": [
        {
          "output_type": "stream",
          "name": "stdout",
          "text": [
            "I bought this game on an impulse buy from walmart. I am glad I did. It was very entertaining listening to Sean Connery and playing the game. I thought the graphics were the \n",
            "1/1 [==============================] - 0s 109ms/step\n",
            "Probability of Positive: [0.99928784]\n"
          ]
        }
      ]
    }
  ]
}